{
 "cells": [
  {
   "cell_type": "code",
   "execution_count": null,
   "metadata": {},
   "outputs": [],
   "source": [
    "#1\n",
    "import os\n",
    "import numpy as np\n",
    "import pandas as pd\n",
    "import matplotlib.pyplot as plt\n",
    "import seaborn as sb\n",
    "from sklearn.model_selection import train_test_split \n",
    "import statsmodels.api as sm\n",
    "from sklearn import tree\n",
    "from sklearn.metrics import accuracy_score\n",
    "from sklearn.neighbors import KNeighborsClassifier\n",
    "from sklearn import metrics\n",
    "import matplotlib.pyplot as plt\n",
    "from sklearn.metrics import roc_auc_score"
   ]
  },
  {
   "cell_type": "code",
   "execution_count": null,
   "metadata": {},
   "outputs": [],
   "source": [
    "#2\n",
    "os.chdir('your file location')"
   ]
  },
  {
   "cell_type": "markdown",
   "metadata": {},
   "source": [
    "# loading Training data"
   ]
  },
  {
   "cell_type": "code",
   "execution_count": null,
   "metadata": {},
   "outputs": [],
   "source": [
    "#3\n",
    "x = pd.read_csv(\"train.csv\")"
   ]
  },
  {
   "cell_type": "code",
   "execution_count": null,
   "metadata": {},
   "outputs": [],
   "source": [
    "#4\n",
    "df = x\n",
    "#x=df"
   ]
  },
  {
   "cell_type": "code",
   "execution_count": null,
   "metadata": {},
   "outputs": [],
   "source": [
    "#5\n",
    "x.head()"
   ]
  },
  {
   "cell_type": "markdown",
   "metadata": {},
   "source": [
    "## preaparing data"
   ]
  },
  {
   "cell_type": "code",
   "execution_count": null,
   "metadata": {},
   "outputs": [],
   "source": [
    "#6\n",
    "x = x.set_index('ID_code')\n",
    "target = x['target']\n",
    "x = pd.concat([x.iloc[:,1:201],target], axis = 1)\n",
    "x['target'] = x['target'].astype('category')"
   ]
  },
  {
   "cell_type": "markdown",
   "metadata": {},
   "source": [
    "# Data Pre-Processing"
   ]
  },
  {
   "cell_type": "markdown",
   "metadata": {},
   "source": [
    "## Missing Value Analysis"
   ]
  },
  {
   "cell_type": "code",
   "execution_count": null,
   "metadata": {},
   "outputs": [],
   "source": [
    "#7\n",
    "mval = pd.DataFrame(x.isnull().sum())\n",
    "mval = mval.rename(columns ={0 :'x'})\n",
    "mval = mval.reset_index()\n",
    "mval = mval.sort_values('x', ascending= False).reset_index(drop = True)\n",
    "mval.head()"
   ]
  },
  {
   "cell_type": "markdown",
   "metadata": {},
   "source": [
    "## outlier Analysis"
   ]
  },
  {
   "cell_type": "code",
   "execution_count": null,
   "metadata": {},
   "outputs": [],
   "source": [
    "#8\n",
    "#Plot boxplot to visualize Outliers\n",
    "%matplotlib inline  \n",
    "plt.boxplot(x['var_98'])\n",
    "#plt.boxplot(x['var_3'])"
   ]
  },
  {
   "cell_type": "code",
   "execution_count": null,
   "metadata": {},
   "outputs": [],
   "source": [
    "#9\n",
    "for i in range(200):\n",
    "    print (i)\n",
    "    q75,q25 = np.percentile(x.iloc[:,i], [75,25])\n",
    "    iqr = q75 - q25\n",
    "    \n",
    "    min = q25 - 1.5*iqr\n",
    "    max = q75 + 1.5*iqr\n",
    "    \n",
    "    x = x.drop(x[x.iloc[:,i] < min].index)\n",
    "    x = x.drop(x[x.iloc[:,i] > max].index)"
   ]
  },
  {
   "cell_type": "code",
   "execution_count": null,
   "metadata": {},
   "outputs": [],
   "source": [
    "x.shape"
   ]
  },
  {
   "cell_type": "markdown",
   "metadata": {},
   "source": [
    "## Feature Selection"
   ]
  },
  {
   "cell_type": "code",
   "execution_count": null,
   "metadata": {},
   "outputs": [],
   "source": [
    "#10\n",
    "f, ax = plt.subplots(figsize =(10,8))\n",
    "corr = x[0:200].corr()\n",
    "sb.heatmap(corr, mask=np.zeros_like(corr,dtype=np.bool8 ), cmap=sb.diverging_palette(10, 20))"
   ]
  },
  {
   "cell_type": "code",
   "execution_count": null,
   "metadata": {},
   "outputs": [],
   "source": [
    "x['target'].describe()"
   ]
  },
  {
   "cell_type": "markdown",
   "metadata": {},
   "source": [
    "# Feature Scaling"
   ]
  },
  {
   "cell_type": "code",
   "execution_count": null,
   "metadata": {},
   "outputs": [],
   "source": [
    "#11\n",
    "for i in range(200):\n",
    "    print(i)\n",
    "    x.iloc[:,i] =((x.iloc[:,i] - x.iloc[:,i].min())/(x.iloc[:,i].max()-x.iloc[:,i].min())) "
   ]
  },
  {
   "cell_type": "code",
   "execution_count": null,
   "metadata": {},
   "outputs": [],
   "source": [
    "x.iloc[13,200]"
   ]
  },
  {
   "cell_type": "code",
   "execution_count": null,
   "metadata": {},
   "outputs": [],
   "source": [
    "x.tail(4)"
   ]
  },
  {
   "cell_type": "markdown",
   "metadata": {},
   "source": [
    "## Feature Sampling"
   ]
  },
  {
   "cell_type": "code",
   "execution_count": null,
   "metadata": {},
   "outputs": [],
   "source": [
    "#12\n",
    "train, test = train_test_split(x, test_size = 0.3)"
   ]
  },
  {
   "cell_type": "code",
   "execution_count": null,
   "metadata": {},
   "outputs": [],
   "source": [
    "train.shape"
   ]
  },
  {
   "cell_type": "markdown",
   "metadata": {},
   "source": [
    "\n",
    "# Model Develoment"
   ]
  },
  {
   "cell_type": "markdown",
   "metadata": {},
   "source": [
    " ## Logistic Regression"
   ]
  },
  {
   "cell_type": "code",
   "execution_count": null,
   "metadata": {},
   "outputs": [],
   "source": [
    "#13\n",
    "tcol = train.columns[1:200]\n",
    "logit = sm.Logit(train['target'], train[tcol]).fit()"
   ]
  },
  {
   "cell_type": "code",
   "execution_count": null,
   "metadata": {},
   "outputs": [],
   "source": [
    "logit.summary()"
   ]
  },
  {
   "cell_type": "code",
   "execution_count": null,
   "metadata": {},
   "outputs": [],
   "source": [
    "#14\n",
    "test['Actual_prob'] = logit.predict(test[tcol])\n",
    "test.loc[test.Actual_prob > 0.5, 'actual value'] = 1\n",
    "test.loc[test.Actual_prob < 0.5, 'actual value'] = 0\n",
    "#test['ActualVal'] = 1\n",
    "#test.loc[test.Actual_prob < 0.5, 'ActualVal'] = 0"
   ]
  },
  {
   "cell_type": "code",
   "execution_count": null,
   "metadata": {},
   "outputs": [],
   "source": [
    "#15\n",
    "fpr, tpr, thresholds = metrics.roc_curve(test['target'], test['actual value'])\n",
    "auc = roc_auc_score(test['target'],test['Actual_prob'])\n",
    "# This is the ROC curve\n",
    "plt.plot(fpr, tpr,label=\"ROC, AUC = \"+str(auc))\n",
    "plt.legend(loc=4)"
   ]
  },
  {
   "cell_type": "code",
   "execution_count": null,
   "metadata": {},
   "outputs": [],
   "source": [
    "#16\n",
    "CM = pd.crosstab(test['target'], test['actual value'])\n",
    "CM"
   ]
  },
  {
   "cell_type": "code",
   "execution_count": null,
   "metadata": {},
   "outputs": [],
   "source": [
    "#17\n",
    "TN = CM.iloc[0,0]\n",
    "FN = CM.iloc[1,0]\n",
    "TP = CM.iloc[1,1]\n",
    "FP = CM.iloc[0,1]\n"
   ]
  },
  {
   "cell_type": "code",
   "execution_count": null,
   "metadata": {},
   "outputs": [],
   "source": [
    "#18\n",
    "accuracy = ((TP+TN)*100)/(TP+TN+FP+FN)\n",
    "FNR = (FN*100/(FN+TN))\n",
    "FPR = (FP*100/(FP+TP))\n",
    "Precision = (TP*100/(FP+TP))\n",
    "Recall = (TP*100/(FN+TP))\n",
    "\n",
    "#accuracy = 91.74%\n",
    "#FNR = 7.38%\n",
    "#FPR = 31.386%\n",
    "#Precision = 68.61%\n",
    "#Recall = 26.40%"
   ]
  },
  {
   "cell_type": "markdown",
   "metadata": {},
   "source": [
    "## Desicion Tree"
   ]
  },
  {
   "cell_type": "code",
   "execution_count": null,
   "metadata": {},
   "outputs": [],
   "source": [
    "#19\n",
    "x_indi = train.iloc[:,0:200]\n",
    "x_dep = train.iloc[:,200]\n",
    "y_indi = test.iloc[:,0:200]\n",
    "y_dep = test.iloc[:,200]\n",
    "C50_model = tree.DecisionTreeClassifier(criterion='entropy').fit(x_indi, x_dep)\n",
    "C50_Predictions = C50_model.predict(y_indi)"
   ]
  },
  {
   "cell_type": "code",
   "execution_count": null,
   "metadata": {},
   "outputs": [],
   "source": [
    "#20\n",
    "fpr, tpr, thresholds = metrics.roc_curve(y_dep, C50_Predictions)\n",
    "auc = roc_auc_score(y_dep, C50_Predictions)\n",
    "# This is the ROC curve\n",
    "plt.plot(fpr, tpr,label=\"ROC, AUC = \"+str(auc))\n",
    "plt.legend(loc=4)"
   ]
  },
  {
   "cell_type": "code",
   "execution_count": null,
   "metadata": {},
   "outputs": [],
   "source": [
    "#21\n",
    "CM = pd.crosstab(y_dep, C50_Predictions)\n",
    "CM"
   ]
  },
  {
   "cell_type": "code",
   "execution_count": null,
   "metadata": {},
   "outputs": [],
   "source": [
    "#22\n",
    "TN = CM.iloc[0,0]\n",
    "FN = CM.iloc[1,0]\n",
    "TP = CM.iloc[1,1]\n",
    "FP = CM.iloc[0,1]"
   ]
  },
  {
   "cell_type": "code",
   "execution_count": null,
   "metadata": {},
   "outputs": [],
   "source": [
    "#23\n",
    "accuracy = ((TP+TN)*100)/(TP+TN+FP+FN)\n",
    "FNR = (FN*100/(FN+TN))\n",
    "FPR = (FP*100/(FP+TP))\n",
    "Precision = (TP*100/(FP+TP))\n",
    "Recall = (TP*100/(FN+TP))\n",
    "\n",
    "#accuracy = 83.82%\n",
    "#FNR = 8.80%\n",
    "#FPR = 81.63%\n",
    "#Precision = 18.37%\n",
    "#Recall = 19.48%"
   ]
  },
  {
   "cell_type": "markdown",
   "metadata": {},
   "source": [
    "## KNN "
   ]
  },
  {
   "cell_type": "code",
   "execution_count": null,
   "metadata": {},
   "outputs": [],
   "source": [
    "#24\n",
    "x_indi = train.iloc[:,0:200]\n",
    "x_dep = train.iloc[:,200]\n",
    "y_indi = test.iloc[:,0:200]\n",
    "y_dep = test.iloc[:,200]\n",
    "KNN_model = KNeighborsClassifier(n_neighbors = 3).fit(x_indi, x_dep)\n",
    "KNN_Predictions = KNN_model.predict(y_indi)"
   ]
  },
  {
   "cell_type": "code",
   "execution_count": null,
   "metadata": {},
   "outputs": [],
   "source": []
  },
  {
   "cell_type": "code",
   "execution_count": null,
   "metadata": {},
   "outputs": [],
   "source": [
    "#25\n",
    "fpr, tpr, thresholds = metrics.roc_curve(y_dep, KNN_Predictions)\n",
    "auc = roc_auc_score(y_dep, KNN_Predictions)\n",
    "# This is the ROC curve\n",
    "plt.plot(fpr, tpr,label=\"ROC, AUC = \"+str(auc))\n",
    "plt.legend(loc=4)"
   ]
  },
  {
   "cell_type": "code",
   "execution_count": null,
   "metadata": {},
   "outputs": [],
   "source": [
    "#26\n",
    "CM = pd.crosstab(y_dep, KNN_Predictions)\n",
    "CM"
   ]
  },
  {
   "cell_type": "code",
   "execution_count": null,
   "metadata": {},
   "outputs": [],
   "source": [
    "KNN_Predictions.dtype"
   ]
  },
  {
   "cell_type": "code",
   "execution_count": null,
   "metadata": {},
   "outputs": [],
   "source": [
    "#27\n",
    "TN = CM.iloc[0,0]\n",
    "FN = CM.iloc[1,0]\n",
    "TP = CM.iloc[1,1]\n",
    "FP = CM.iloc[0,1]"
   ]
  },
  {
   "cell_type": "code",
   "execution_count": null,
   "metadata": {},
   "outputs": [],
   "source": [
    "#28\n",
    "accuracy = ((TP+TN)*100)/(TP+TN+FP+FN)\n",
    "FNR = (FN*100/(FN+TN))\n",
    "FPR = (FP*100/(FP+TP))\n",
    "Precision = (TP*100/(FP+TP))\n",
    "Recall = (TP*100/(FN+TP))\n",
    "\n",
    "#accuracy = 83.82%\n",
    "#FNR = 8.80%\n",
    "#FPR = 81.63%\n",
    "#Precision = 18.37%\n",
    "#Recall = 19.01%\n"
   ]
  },
  {
   "cell_type": "markdown",
   "metadata": {},
   "source": [
    "# Test Data\n",
    "\n"
   ]
  },
  {
   "cell_type": "code",
   "execution_count": null,
   "metadata": {},
   "outputs": [],
   "source": [
    "#29\n",
    "y = pd.read_csv('test.csv')\n",
    "y = y.set_index('ID_code')"
   ]
  },
  {
   "cell_type": "code",
   "execution_count": null,
   "metadata": {},
   "outputs": [],
   "source": [
    "#30\n",
    "#bu = y\n",
    "\n",
    "y = bu"
   ]
  },
  {
   "cell_type": "code",
   "execution_count": null,
   "metadata": {},
   "outputs": [],
   "source": [
    "y.head()"
   ]
  },
  {
   "cell_type": "markdown",
   "metadata": {},
   "source": [
    "## scaling test data"
   ]
  },
  {
   "cell_type": "code",
   "execution_count": null,
   "metadata": {},
   "outputs": [],
   "source": [
    "#31\n",
    "for i in range(200):\n",
    "    print(i)\n",
    "    y.iloc[:,i] =((y.iloc[:,i] - y.iloc[:,i].min())/(y.iloc[:,i].max()-y.iloc[:,i].min())) "
   ]
  },
  {
   "cell_type": "markdown",
   "metadata": {},
   "source": [
    "## prediction"
   ]
  },
  {
   "cell_type": "code",
   "execution_count": null,
   "metadata": {},
   "outputs": [],
   "source": [
    "#32\n",
    "y['Actual_prob'] = logit.predict(y[tcol])\n",
    "y.loc[y.Actual_prob < 0.5, 'Test_target'] = 0\n",
    "y.loc[y.Actual_prob > 0.5, 'Test_target'] = 1\n",
    "y['Test_target'] = y['Test_target'].astype('int')\n",
    "y['Test_target'] = y['Test_target'].astype('category')\n",
    "y.head()"
   ]
  },
  {
   "cell_type": "code",
   "execution_count": null,
   "metadata": {},
   "outputs": [],
   "source": [
    "y['Test_target'].value_counts()"
   ]
  },
  {
   "cell_type": "code",
   "execution_count": null,
   "metadata": {},
   "outputs": [],
   "source": [
    "#33\n",
    "Test_target = y['Test_target']\n",
    "y = y.drop(labels = 'Test_target',axis =1)\n",
    "y = y.drop(labels = 'Actual_prob',axis =1)\n",
    "y = pd.concat([Test_target, y], axis = 1)"
   ]
  },
  {
   "cell_type": "code",
   "execution_count": null,
   "metadata": {},
   "outputs": [],
   "source": [
    "#34\n",
    "y.to_csv(\"Pr.csv\", index = True)"
   ]
  }
 ],
 "metadata": {
  "kernelspec": {
   "display_name": "Python 3",
   "language": "python",
   "name": "python3"
  },
  "language_info": {
   "codemirror_mode": {
    "name": "ipython",
    "version": 3
   },
   "file_extension": ".py",
   "mimetype": "text/x-python",
   "name": "python",
   "nbconvert_exporter": "python",
   "pygments_lexer": "ipython3",
   "version": "3.7.3"
  }
 },
 "nbformat": 4,
 "nbformat_minor": 2
}
