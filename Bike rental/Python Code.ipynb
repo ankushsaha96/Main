{
 "cells": [
  {
   "cell_type": "code",
   "execution_count": 1,
   "metadata": {},
   "outputs": [],
   "source": [
    "#1 loading required library\n",
    "import os\n",
    "import numpy as np\n",
    "import pandas as pd\n",
    "import matplotlib.pyplot as plt\n",
    "import seaborn as sb\n",
    "from sklearn.model_selection import train_test_split \n",
    "import statsmodels.api as sm\n",
    "from sklearn import tree\n",
    "import seaborn as sns\n",
    "from scipy.stats import chi2_contingency\n",
    "import matplotlib.pyplot as plt\n",
    "import statsmodels.api as sm\n",
    "from sklearn.tree import DecisionTreeRegressor\n",
    "from sklearn.ensemble import RandomForestRegressor\n",
    "from sklearn.neighbors import KNeighborsRegressor"
   ]
  },
  {
   "cell_type": "code",
   "execution_count": null,
   "metadata": {},
   "outputs": [],
   "source": [
    "#2 Setting the path\n",
    "os.chdir(\"C:/Users/Ankush Saha/Downloads\")"
   ]
  },
  {
   "cell_type": "markdown",
   "metadata": {},
   "source": [
    "# loading Training data"
   ]
  },
  {
   "cell_type": "code",
   "execution_count": 2,
   "metadata": {},
   "outputs": [],
   "source": [
    "#3 loading data\n",
    "x = pd.read_csv(\"day.csv\")"
   ]
  },
  {
   "cell_type": "code",
   "execution_count": 3,
   "metadata": {},
   "outputs": [
    {
     "data": {
      "text/html": [
       "<div>\n",
       "<style scoped>\n",
       "    .dataframe tbody tr th:only-of-type {\n",
       "        vertical-align: middle;\n",
       "    }\n",
       "\n",
       "    .dataframe tbody tr th {\n",
       "        vertical-align: top;\n",
       "    }\n",
       "\n",
       "    .dataframe thead th {\n",
       "        text-align: right;\n",
       "    }\n",
       "</style>\n",
       "<table border=\"1\" class=\"dataframe\">\n",
       "  <thead>\n",
       "    <tr style=\"text-align: right;\">\n",
       "      <th></th>\n",
       "      <th>instant</th>\n",
       "      <th>dteday</th>\n",
       "      <th>season</th>\n",
       "      <th>yr</th>\n",
       "      <th>mnth</th>\n",
       "      <th>holiday</th>\n",
       "      <th>weekday</th>\n",
       "      <th>workingday</th>\n",
       "      <th>weathersit</th>\n",
       "      <th>temp</th>\n",
       "      <th>atemp</th>\n",
       "      <th>hum</th>\n",
       "      <th>windspeed</th>\n",
       "      <th>casual</th>\n",
       "      <th>registered</th>\n",
       "      <th>cnt</th>\n",
       "    </tr>\n",
       "  </thead>\n",
       "  <tbody>\n",
       "    <tr>\n",
       "      <th>0</th>\n",
       "      <td>1</td>\n",
       "      <td>2011-01-01</td>\n",
       "      <td>1</td>\n",
       "      <td>0</td>\n",
       "      <td>1</td>\n",
       "      <td>0</td>\n",
       "      <td>6</td>\n",
       "      <td>0</td>\n",
       "      <td>2</td>\n",
       "      <td>0.344167</td>\n",
       "      <td>0.363625</td>\n",
       "      <td>0.805833</td>\n",
       "      <td>0.160446</td>\n",
       "      <td>331</td>\n",
       "      <td>654</td>\n",
       "      <td>985</td>\n",
       "    </tr>\n",
       "    <tr>\n",
       "      <th>1</th>\n",
       "      <td>2</td>\n",
       "      <td>2011-01-02</td>\n",
       "      <td>1</td>\n",
       "      <td>0</td>\n",
       "      <td>1</td>\n",
       "      <td>0</td>\n",
       "      <td>0</td>\n",
       "      <td>0</td>\n",
       "      <td>2</td>\n",
       "      <td>0.363478</td>\n",
       "      <td>0.353739</td>\n",
       "      <td>0.696087</td>\n",
       "      <td>0.248539</td>\n",
       "      <td>131</td>\n",
       "      <td>670</td>\n",
       "      <td>801</td>\n",
       "    </tr>\n",
       "    <tr>\n",
       "      <th>2</th>\n",
       "      <td>3</td>\n",
       "      <td>2011-01-03</td>\n",
       "      <td>1</td>\n",
       "      <td>0</td>\n",
       "      <td>1</td>\n",
       "      <td>0</td>\n",
       "      <td>1</td>\n",
       "      <td>1</td>\n",
       "      <td>1</td>\n",
       "      <td>0.196364</td>\n",
       "      <td>0.189405</td>\n",
       "      <td>0.437273</td>\n",
       "      <td>0.248309</td>\n",
       "      <td>120</td>\n",
       "      <td>1229</td>\n",
       "      <td>1349</td>\n",
       "    </tr>\n",
       "    <tr>\n",
       "      <th>3</th>\n",
       "      <td>4</td>\n",
       "      <td>2011-01-04</td>\n",
       "      <td>1</td>\n",
       "      <td>0</td>\n",
       "      <td>1</td>\n",
       "      <td>0</td>\n",
       "      <td>2</td>\n",
       "      <td>1</td>\n",
       "      <td>1</td>\n",
       "      <td>0.200000</td>\n",
       "      <td>0.212122</td>\n",
       "      <td>0.590435</td>\n",
       "      <td>0.160296</td>\n",
       "      <td>108</td>\n",
       "      <td>1454</td>\n",
       "      <td>1562</td>\n",
       "    </tr>\n",
       "    <tr>\n",
       "      <th>4</th>\n",
       "      <td>5</td>\n",
       "      <td>2011-01-05</td>\n",
       "      <td>1</td>\n",
       "      <td>0</td>\n",
       "      <td>1</td>\n",
       "      <td>0</td>\n",
       "      <td>3</td>\n",
       "      <td>1</td>\n",
       "      <td>1</td>\n",
       "      <td>0.226957</td>\n",
       "      <td>0.229270</td>\n",
       "      <td>0.436957</td>\n",
       "      <td>0.186900</td>\n",
       "      <td>82</td>\n",
       "      <td>1518</td>\n",
       "      <td>1600</td>\n",
       "    </tr>\n",
       "  </tbody>\n",
       "</table>\n",
       "</div>"
      ],
      "text/plain": [
       "   instant      dteday  season  yr  mnth  holiday  weekday  workingday  \\\n",
       "0        1  2011-01-01       1   0     1        0        6           0   \n",
       "1        2  2011-01-02       1   0     1        0        0           0   \n",
       "2        3  2011-01-03       1   0     1        0        1           1   \n",
       "3        4  2011-01-04       1   0     1        0        2           1   \n",
       "4        5  2011-01-05       1   0     1        0        3           1   \n",
       "\n",
       "   weathersit      temp     atemp       hum  windspeed  casual  registered  \\\n",
       "0           2  0.344167  0.363625  0.805833   0.160446     331         654   \n",
       "1           2  0.363478  0.353739  0.696087   0.248539     131         670   \n",
       "2           1  0.196364  0.189405  0.437273   0.248309     120        1229   \n",
       "3           1  0.200000  0.212122  0.590435   0.160296     108        1454   \n",
       "4           1  0.226957  0.229270  0.436957   0.186900      82        1518   \n",
       "\n",
       "    cnt  \n",
       "0   985  \n",
       "1   801  \n",
       "2  1349  \n",
       "3  1562  \n",
       "4  1600  "
      ]
     },
     "execution_count": 3,
     "metadata": {},
     "output_type": "execute_result"
    }
   ],
   "source": [
    "x.head()"
   ]
  },
  {
   "cell_type": "markdown",
   "metadata": {},
   "source": [
    "## preaparing data"
   ]
  },
  {
   "cell_type": "code",
   "execution_count": 4,
   "metadata": {},
   "outputs": [],
   "source": [
    "#4 preaparing data\n",
    "x = x.set_index('instant')\n",
    "x = x.iloc[:,1:15]\n",
    "for i in range(7):\n",
    "    x.iloc[:,i] =x.iloc[:,i].astype('object')"
   ]
  },
  {
   "cell_type": "markdown",
   "metadata": {},
   "source": [
    "# Data Pre-Processing"
   ]
  },
  {
   "cell_type": "markdown",
   "metadata": {},
   "source": [
    "## Missing value analysis"
   ]
  },
  {
   "cell_type": "code",
   "execution_count": null,
   "metadata": {},
   "outputs": [],
   "source": [
    "#7 missing value analysis\n",
    "mval = pd.DataFrame(x.isnull().sum())\n",
    "mval = mval.rename(columns ={0 :'x'})\n",
    "mval = mval.reset_index()\n",
    "mval = mval.sort_values('x', ascending= False).reset_index(drop = True)\n",
    "mval.head()"
   ]
  },
  {
   "cell_type": "markdown",
   "metadata": {},
   "source": [
    "## Outlier analysis"
   ]
  },
  {
   "cell_type": "code",
   "execution_count": 5,
   "metadata": {},
   "outputs": [
    {
     "data": {
      "text/plain": [
       "{'whiskers': [<matplotlib.lines.Line2D at 0x1dce110e518>,\n",
       "  <matplotlib.lines.Line2D at 0x1dce110e860>],\n",
       " 'caps': [<matplotlib.lines.Line2D at 0x1dce110eba8>,\n",
       "  <matplotlib.lines.Line2D at 0x1dce110eef0>],\n",
       " 'boxes': [<matplotlib.lines.Line2D at 0x1dce110e0b8>],\n",
       " 'medians': [<matplotlib.lines.Line2D at 0x1dce110efd0>],\n",
       " 'fliers': [<matplotlib.lines.Line2D at 0x1dce111e5c0>],\n",
       " 'means': []}"
      ]
     },
     "execution_count": 5,
     "metadata": {},
     "output_type": "execute_result"
    },
    {
     "data": {
      "image/png": "[encoded data removed]",
      "text/plain": [
       "<Figure size 432x288 with 1 Axes>"
      ]
     },
     "metadata": {
      "needs_background": "light"
     },
     "output_type": "display_data"
    }
   ],
   "source": [
    "#8 Plot boxplot to visualize Outliers\n",
    "%matplotlib inline  \n",
    "#plt.boxplot(x[\"casual\"])\n",
    "plt.boxplot(x['windspeed'])\n"
   ]
  },
  {
   "cell_type": "code",
   "execution_count": 6,
   "metadata": {},
   "outputs": [
    {
     "name": "stdout",
     "output_type": "stream",
     "text": [
      "0\n",
      "1\n",
      "2\n",
      "3\n",
      "4\n",
      "5\n",
      "6\n",
      "7\n",
      "8\n",
      "9\n",
      "10\n",
      "11\n",
      "12\n",
      "13\n"
     ]
    }
   ],
   "source": [
    "#9 removing outliers\n",
    "for i in range(14):\n",
    "    print (i)\n",
    "    q75,q25 = np.percentile(x.iloc[:,i], [75,25])\n",
    "    iqr = q75 - q25\n",
    "    \n",
    "    min = q25 - 1.5*iqr\n",
    "    max = q75 + 1.5*iqr\n",
    "    \n",
    "    x = x.drop(x[x.iloc[:,i] < min].index)\n",
    "    x = x.drop(x[x.iloc[:,i] > max].index)\n",
    "x = x.reset_index(drop = True)"
   ]
  },
  {
   "cell_type": "code",
   "execution_count": null,
   "metadata": {},
   "outputs": [],
   "source": [
    "#10 taking backup\n",
    "backup = x"
   ]
  },
  {
   "cell_type": "markdown",
   "metadata": {},
   "source": [
    "## Feature selection"
   ]
  },
  {
   "cell_type": "code",
   "execution_count": 7,
   "metadata": {},
   "outputs": [
    {
     "data": {
      "text/plain": [
       "<matplotlib.axes._subplots.AxesSubplot at 0x1dce116bc18>"
      ]
     },
     "execution_count": 7,
     "metadata": {},
     "output_type": "execute_result"
    },
    {
     "data": {
      "image/png": "[encoded data removed]",
      "text/plain": [
       "<Figure size 720x720 with 2 Axes>"
      ]
     },
     "metadata": {
      "needs_background": "light"
     },
     "output_type": "display_data"
    }
   ],
   "source": [
    "#11 Corellation plot\n",
    "f, ax = plt.subplots(figsize =(10,10))\n",
    "corr = x.iloc[:,7:14].corr()\n",
    "sns.heatmap(corr, mask=np.zeros_like(corr, dtype=np.bool), cmap=sns.diverging_palette(220, 10, as_cmap=True),\n",
    "            square=True, ax=ax)"
   ]
  },
  {
   "cell_type": "code",
   "execution_count": 8,
   "metadata": {},
   "outputs": [],
   "source": [
    "catgnames = ['season', 'yr', 'mnth', 'holiday', 'weekday', 'workingday',\n",
    "       'weathersit']"
   ]
  },
  {
   "cell_type": "markdown",
   "metadata": {},
   "source": [
    "## Chi-square test"
   ]
  },
  {
   "cell_type": "code",
   "execution_count": 9,
   "metadata": {
    "scrolled": true
   },
   "outputs": [
    {
     "name": "stdout",
     "output_type": "stream",
     "text": [
      "season season\n",
      "0.0\n",
      "season yr\n",
      "0.89950387602208\n",
      "season mnth\n",
      "0.0\n",
      "season holiday\n",
      "1.0\n",
      "season weekday\n",
      "0.99920607280162\n",
      "season workingday\n",
      "0.3053704760812475\n",
      "season weathersit\n",
      "0.003578275821665477\n",
      "yr season\n",
      "0.89950387602208\n",
      "yr yr\n",
      "1.356781737234796e-143\n",
      "yr mnth\n",
      "0.9997710762738306\n",
      "yr holiday\n",
      "1.0\n",
      "yr weekday\n",
      "0.34644694072611504\n",
      "yr workingday\n",
      "0.03278304974666283\n",
      "yr weathersit\n",
      "0.2825074283722575\n",
      "mnth season\n",
      "0.0\n",
      "mnth yr\n",
      "0.9997710762738306\n",
      "mnth mnth\n",
      "0.0\n",
      "mnth holiday\n",
      "1.0\n",
      "mnth weekday\n",
      "0.9999999999999997\n",
      "mnth workingday\n",
      "0.8672481710645695\n",
      "mnth weathersit\n",
      "0.0032213700910868285\n",
      "holiday season\n",
      "1.0\n",
      "holiday yr\n",
      "1.0\n",
      "holiday mnth\n",
      "1.0\n",
      "holiday holiday\n",
      "1.0\n",
      "holiday weekday\n",
      "1.0\n",
      "holiday workingday\n",
      "1.0\n",
      "holiday weathersit\n",
      "1.0\n",
      "weekday season\n",
      "0.99920607280162\n",
      "weekday yr\n",
      "0.34644694072611504\n",
      "weekday mnth\n",
      "0.9999999999999997\n",
      "weekday holiday\n",
      "1.0\n",
      "weekday weekday\n",
      "0.0\n",
      "weekday workingday\n",
      "3.166663770038422e-138\n",
      "weekday weathersit\n",
      "0.32122718010678825\n",
      "workingday season\n",
      "0.3053704760812491\n",
      "workingday yr\n",
      "0.03278304974666283\n",
      "workingday mnth\n",
      "0.8672481710645695\n",
      "workingday holiday\n",
      "1.0\n",
      "workingday weekday\n",
      "3.1666637700382416e-138\n",
      "workingday workingday\n",
      "2.5906974051128668e-143\n",
      "workingday weathersit\n",
      "0.7257060537336091\n",
      "weathersit season\n",
      "0.003578275821665477\n",
      "weathersit yr\n",
      "0.2825074283722575\n",
      "weathersit mnth\n",
      "0.0032213700910868285\n",
      "weathersit holiday\n",
      "1.0\n",
      "weathersit weekday\n",
      "0.32122718010678825\n",
      "weathersit workingday\n",
      "0.7257060537336091\n",
      "weathersit weathersit\n",
      "2.2595304207476027e-282\n"
     ]
    }
   ],
   "source": [
    "#12 loop for chi square values\n",
    "first = []\n",
    "second = []\n",
    "p_value = []\n",
    "for i in catgnames:\n",
    "    for j in catgnames:\n",
    "        print(i, j)\n",
    "        chi2, p, dof, ex = chi2_contingency(pd.crosstab(x[i], x[j]))\n",
    "        print(p)\n",
    "        first.append(i)\n",
    "        second.append(j)\n",
    "        p_value.append(p)\n",
    "first = pd.DataFrame(first)\n",
    "first = first.rename(columns ={0 :'first'})\n",
    "second = pd.DataFrame(second)\n",
    "second = second.rename(columns ={0 :'second'})\n",
    "p_value = pd.DataFrame(p_value)\n",
    "p_value = p_value.rename(columns ={0:'p_value'})\n",
    "p_val = pd.concat([first, second, p_value], axis =1)\n",
    "p_val = p_val.sort_values('p_value',ascending= False).reset_index(drop = True)"
   ]
  },
  {
   "cell_type": "code",
   "execution_count": 10,
   "metadata": {
    "scrolled": true
   },
   "outputs": [
    {
     "data": {
      "text/html": [
       "<div>\n",
       "<style scoped>\n",
       "    .dataframe tbody tr th:only-of-type {\n",
       "        vertical-align: middle;\n",
       "    }\n",
       "\n",
       "    .dataframe tbody tr th {\n",
       "        vertical-align: top;\n",
       "    }\n",
       "\n",
       "    .dataframe thead th {\n",
       "        text-align: right;\n",
       "    }\n",
       "</style>\n",
       "<table border=\"1\" class=\"dataframe\">\n",
       "  <thead>\n",
       "    <tr style=\"text-align: right;\">\n",
       "      <th></th>\n",
       "      <th>first</th>\n",
       "      <th>second</th>\n",
       "      <th>p_value</th>\n",
       "    </tr>\n",
       "  </thead>\n",
       "  <tbody>\n",
       "    <tr>\n",
       "      <th>0</th>\n",
       "      <td>holiday</td>\n",
       "      <td>holiday</td>\n",
       "      <td>1.000000e+00</td>\n",
       "    </tr>\n",
       "    <tr>\n",
       "      <th>1</th>\n",
       "      <td>weathersit</td>\n",
       "      <td>holiday</td>\n",
       "      <td>1.000000e+00</td>\n",
       "    </tr>\n",
       "    <tr>\n",
       "      <th>2</th>\n",
       "      <td>workingday</td>\n",
       "      <td>holiday</td>\n",
       "      <td>1.000000e+00</td>\n",
       "    </tr>\n",
       "    <tr>\n",
       "      <th>3</th>\n",
       "      <td>weekday</td>\n",
       "      <td>holiday</td>\n",
       "      <td>1.000000e+00</td>\n",
       "    </tr>\n",
       "    <tr>\n",
       "      <th>4</th>\n",
       "      <td>holiday</td>\n",
       "      <td>weathersit</td>\n",
       "      <td>1.000000e+00</td>\n",
       "    </tr>\n",
       "    <tr>\n",
       "      <th>5</th>\n",
       "      <td>holiday</td>\n",
       "      <td>workingday</td>\n",
       "      <td>1.000000e+00</td>\n",
       "    </tr>\n",
       "    <tr>\n",
       "      <th>6</th>\n",
       "      <td>holiday</td>\n",
       "      <td>weekday</td>\n",
       "      <td>1.000000e+00</td>\n",
       "    </tr>\n",
       "    <tr>\n",
       "      <th>7</th>\n",
       "      <td>holiday</td>\n",
       "      <td>mnth</td>\n",
       "      <td>1.000000e+00</td>\n",
       "    </tr>\n",
       "    <tr>\n",
       "      <th>8</th>\n",
       "      <td>holiday</td>\n",
       "      <td>yr</td>\n",
       "      <td>1.000000e+00</td>\n",
       "    </tr>\n",
       "    <tr>\n",
       "      <th>9</th>\n",
       "      <td>mnth</td>\n",
       "      <td>holiday</td>\n",
       "      <td>1.000000e+00</td>\n",
       "    </tr>\n",
       "    <tr>\n",
       "      <th>10</th>\n",
       "      <td>holiday</td>\n",
       "      <td>season</td>\n",
       "      <td>1.000000e+00</td>\n",
       "    </tr>\n",
       "    <tr>\n",
       "      <th>11</th>\n",
       "      <td>yr</td>\n",
       "      <td>holiday</td>\n",
       "      <td>1.000000e+00</td>\n",
       "    </tr>\n",
       "    <tr>\n",
       "      <th>12</th>\n",
       "      <td>season</td>\n",
       "      <td>holiday</td>\n",
       "      <td>1.000000e+00</td>\n",
       "    </tr>\n",
       "    <tr>\n",
       "      <th>13</th>\n",
       "      <td>mnth</td>\n",
       "      <td>weekday</td>\n",
       "      <td>1.000000e+00</td>\n",
       "    </tr>\n",
       "    <tr>\n",
       "      <th>14</th>\n",
       "      <td>weekday</td>\n",
       "      <td>mnth</td>\n",
       "      <td>1.000000e+00</td>\n",
       "    </tr>\n",
       "    <tr>\n",
       "      <th>15</th>\n",
       "      <td>mnth</td>\n",
       "      <td>yr</td>\n",
       "      <td>9.997711e-01</td>\n",
       "    </tr>\n",
       "    <tr>\n",
       "      <th>16</th>\n",
       "      <td>yr</td>\n",
       "      <td>mnth</td>\n",
       "      <td>9.997711e-01</td>\n",
       "    </tr>\n",
       "    <tr>\n",
       "      <th>17</th>\n",
       "      <td>season</td>\n",
       "      <td>weekday</td>\n",
       "      <td>9.992061e-01</td>\n",
       "    </tr>\n",
       "    <tr>\n",
       "      <th>18</th>\n",
       "      <td>weekday</td>\n",
       "      <td>season</td>\n",
       "      <td>9.992061e-01</td>\n",
       "    </tr>\n",
       "    <tr>\n",
       "      <th>19</th>\n",
       "      <td>yr</td>\n",
       "      <td>season</td>\n",
       "      <td>8.995039e-01</td>\n",
       "    </tr>\n",
       "    <tr>\n",
       "      <th>20</th>\n",
       "      <td>season</td>\n",
       "      <td>yr</td>\n",
       "      <td>8.995039e-01</td>\n",
       "    </tr>\n",
       "    <tr>\n",
       "      <th>21</th>\n",
       "      <td>mnth</td>\n",
       "      <td>workingday</td>\n",
       "      <td>8.672482e-01</td>\n",
       "    </tr>\n",
       "    <tr>\n",
       "      <th>22</th>\n",
       "      <td>workingday</td>\n",
       "      <td>mnth</td>\n",
       "      <td>8.672482e-01</td>\n",
       "    </tr>\n",
       "    <tr>\n",
       "      <th>23</th>\n",
       "      <td>workingday</td>\n",
       "      <td>weathersit</td>\n",
       "      <td>7.257061e-01</td>\n",
       "    </tr>\n",
       "    <tr>\n",
       "      <th>24</th>\n",
       "      <td>weathersit</td>\n",
       "      <td>workingday</td>\n",
       "      <td>7.257061e-01</td>\n",
       "    </tr>\n",
       "    <tr>\n",
       "      <th>25</th>\n",
       "      <td>weekday</td>\n",
       "      <td>yr</td>\n",
       "      <td>3.464469e-01</td>\n",
       "    </tr>\n",
       "    <tr>\n",
       "      <th>26</th>\n",
       "      <td>yr</td>\n",
       "      <td>weekday</td>\n",
       "      <td>3.464469e-01</td>\n",
       "    </tr>\n",
       "    <tr>\n",
       "      <th>27</th>\n",
       "      <td>weekday</td>\n",
       "      <td>weathersit</td>\n",
       "      <td>3.212272e-01</td>\n",
       "    </tr>\n",
       "    <tr>\n",
       "      <th>28</th>\n",
       "      <td>weathersit</td>\n",
       "      <td>weekday</td>\n",
       "      <td>3.212272e-01</td>\n",
       "    </tr>\n",
       "    <tr>\n",
       "      <th>29</th>\n",
       "      <td>workingday</td>\n",
       "      <td>season</td>\n",
       "      <td>3.053705e-01</td>\n",
       "    </tr>\n",
       "    <tr>\n",
       "      <th>30</th>\n",
       "      <td>season</td>\n",
       "      <td>workingday</td>\n",
       "      <td>3.053705e-01</td>\n",
       "    </tr>\n",
       "    <tr>\n",
       "      <th>31</th>\n",
       "      <td>weathersit</td>\n",
       "      <td>yr</td>\n",
       "      <td>2.825074e-01</td>\n",
       "    </tr>\n",
       "    <tr>\n",
       "      <th>32</th>\n",
       "      <td>yr</td>\n",
       "      <td>weathersit</td>\n",
       "      <td>2.825074e-01</td>\n",
       "    </tr>\n",
       "    <tr>\n",
       "      <th>33</th>\n",
       "      <td>yr</td>\n",
       "      <td>workingday</td>\n",
       "      <td>3.278305e-02</td>\n",
       "    </tr>\n",
       "    <tr>\n",
       "      <th>34</th>\n",
       "      <td>workingday</td>\n",
       "      <td>yr</td>\n",
       "      <td>3.278305e-02</td>\n",
       "    </tr>\n",
       "    <tr>\n",
       "      <th>35</th>\n",
       "      <td>season</td>\n",
       "      <td>weathersit</td>\n",
       "      <td>3.578276e-03</td>\n",
       "    </tr>\n",
       "    <tr>\n",
       "      <th>36</th>\n",
       "      <td>weathersit</td>\n",
       "      <td>season</td>\n",
       "      <td>3.578276e-03</td>\n",
       "    </tr>\n",
       "    <tr>\n",
       "      <th>37</th>\n",
       "      <td>weathersit</td>\n",
       "      <td>mnth</td>\n",
       "      <td>3.221370e-03</td>\n",
       "    </tr>\n",
       "    <tr>\n",
       "      <th>38</th>\n",
       "      <td>mnth</td>\n",
       "      <td>weathersit</td>\n",
       "      <td>3.221370e-03</td>\n",
       "    </tr>\n",
       "    <tr>\n",
       "      <th>39</th>\n",
       "      <td>weekday</td>\n",
       "      <td>workingday</td>\n",
       "      <td>3.166664e-138</td>\n",
       "    </tr>\n",
       "    <tr>\n",
       "      <th>40</th>\n",
       "      <td>workingday</td>\n",
       "      <td>weekday</td>\n",
       "      <td>3.166664e-138</td>\n",
       "    </tr>\n",
       "    <tr>\n",
       "      <th>41</th>\n",
       "      <td>workingday</td>\n",
       "      <td>workingday</td>\n",
       "      <td>2.590697e-143</td>\n",
       "    </tr>\n",
       "    <tr>\n",
       "      <th>42</th>\n",
       "      <td>yr</td>\n",
       "      <td>yr</td>\n",
       "      <td>1.356782e-143</td>\n",
       "    </tr>\n",
       "    <tr>\n",
       "      <th>43</th>\n",
       "      <td>weathersit</td>\n",
       "      <td>weathersit</td>\n",
       "      <td>2.259530e-282</td>\n",
       "    </tr>\n",
       "    <tr>\n",
       "      <th>44</th>\n",
       "      <td>weekday</td>\n",
       "      <td>weekday</td>\n",
       "      <td>0.000000e+00</td>\n",
       "    </tr>\n",
       "    <tr>\n",
       "      <th>45</th>\n",
       "      <td>mnth</td>\n",
       "      <td>mnth</td>\n",
       "      <td>0.000000e+00</td>\n",
       "    </tr>\n",
       "    <tr>\n",
       "      <th>46</th>\n",
       "      <td>mnth</td>\n",
       "      <td>season</td>\n",
       "      <td>0.000000e+00</td>\n",
       "    </tr>\n",
       "    <tr>\n",
       "      <th>47</th>\n",
       "      <td>season</td>\n",
       "      <td>mnth</td>\n",
       "      <td>0.000000e+00</td>\n",
       "    </tr>\n",
       "    <tr>\n",
       "      <th>48</th>\n",
       "      <td>season</td>\n",
       "      <td>season</td>\n",
       "      <td>0.000000e+00</td>\n",
       "    </tr>\n",
       "  </tbody>\n",
       "</table>\n",
       "</div>"
      ],
      "text/plain": [
       "         first      second        p_value\n",
       "0      holiday     holiday   1.000000e+00\n",
       "1   weathersit     holiday   1.000000e+00\n",
       "2   workingday     holiday   1.000000e+00\n",
       "3      weekday     holiday   1.000000e+00\n",
       "4      holiday  weathersit   1.000000e+00\n",
       "5      holiday  workingday   1.000000e+00\n",
       "6      holiday     weekday   1.000000e+00\n",
       "7      holiday        mnth   1.000000e+00\n",
       "8      holiday          yr   1.000000e+00\n",
       "9         mnth     holiday   1.000000e+00\n",
       "10     holiday      season   1.000000e+00\n",
       "11          yr     holiday   1.000000e+00\n",
       "12      season     holiday   1.000000e+00\n",
       "13        mnth     weekday   1.000000e+00\n",
       "14     weekday        mnth   1.000000e+00\n",
       "15        mnth          yr   9.997711e-01\n",
       "16          yr        mnth   9.997711e-01\n",
       "17      season     weekday   9.992061e-01\n",
       "18     weekday      season   9.992061e-01\n",
       "19          yr      season   8.995039e-01\n",
       "20      season          yr   8.995039e-01\n",
       "21        mnth  workingday   8.672482e-01\n",
       "22  workingday        mnth   8.672482e-01\n",
       "23  workingday  weathersit   7.257061e-01\n",
       "24  weathersit  workingday   7.257061e-01\n",
       "25     weekday          yr   3.464469e-01\n",
       "26          yr     weekday   3.464469e-01\n",
       "27     weekday  weathersit   3.212272e-01\n",
       "28  weathersit     weekday   3.212272e-01\n",
       "29  workingday      season   3.053705e-01\n",
       "30      season  workingday   3.053705e-01\n",
       "31  weathersit          yr   2.825074e-01\n",
       "32          yr  weathersit   2.825074e-01\n",
       "33          yr  workingday   3.278305e-02\n",
       "34  workingday          yr   3.278305e-02\n",
       "35      season  weathersit   3.578276e-03\n",
       "36  weathersit      season   3.578276e-03\n",
       "37  weathersit        mnth   3.221370e-03\n",
       "38        mnth  weathersit   3.221370e-03\n",
       "39     weekday  workingday  3.166664e-138\n",
       "40  workingday     weekday  3.166664e-138\n",
       "41  workingday  workingday  2.590697e-143\n",
       "42          yr          yr  1.356782e-143\n",
       "43  weathersit  weathersit  2.259530e-282\n",
       "44     weekday     weekday   0.000000e+00\n",
       "45        mnth        mnth   0.000000e+00\n",
       "46        mnth      season   0.000000e+00\n",
       "47      season        mnth   0.000000e+00\n",
       "48      season      season   0.000000e+00"
      ]
     },
     "execution_count": 10,
     "metadata": {},
     "output_type": "execute_result"
    }
   ],
   "source": [
    "p_val"
   ]
  },
  {
   "cell_type": "code",
   "execution_count": null,
   "metadata": {},
   "outputs": [],
   "source": [
    "#13 removing corellated dependent variables\n",
    "x = x.drop(['season','weekday','workingday','weathersit','temp','registered'],axis = 1)"
   ]
  },
  {
   "cell_type": "markdown",
   "metadata": {},
   "source": [
    "## Feature Scaling"
   ]
  },
  {
   "cell_type": "code",
   "execution_count": null,
   "metadata": {},
   "outputs": [],
   "source": [
    "#14 plotting distribution\n",
    "%matplotlib inline  \n",
    "plt.hist(x['casual'], bins='auto')\n",
    "plt.xlabel(\"Distribution of Casual\")"
   ]
  },
  {
   "cell_type": "code",
   "execution_count": null,
   "metadata": {},
   "outputs": [],
   "source": [
    "#15 normalising\n",
    "x.iloc[:,6] =((x.iloc[:,6] - x.iloc[:,6].min())/(x.iloc[:,6].max()-x.iloc[:,6].min()))"
   ]
  },
  {
   "cell_type": "code",
   "execution_count": null,
   "metadata": {},
   "outputs": [],
   "source": [
    "x.head()"
   ]
  },
  {
   "cell_type": "markdown",
   "metadata": {},
   "source": [
    "## Feature sampling"
   ]
  },
  {
   "cell_type": "code",
   "execution_count": null,
   "metadata": {},
   "outputs": [],
   "source": [
    "#16 train test split\n",
    "train, test = train_test_split(x, test_size = 0.3)"
   ]
  },
  {
   "cell_type": "markdown",
   "metadata": {},
   "source": [
    "# Model Development"
   ]
  },
  {
   "cell_type": "code",
   "execution_count": null,
   "metadata": {},
   "outputs": [],
   "source": [
    "#17 defining model evaluation techniques\n",
    "def mape(x,y):\n",
    "    return abs((x - y)/x).mean()\n",
    "def mae(x,y):\n",
    "    return abs(x - y).mean()"
   ]
  },
  {
   "cell_type": "markdown",
   "metadata": {},
   "source": [
    "# Linear regression"
   ]
  },
  {
   "cell_type": "code",
   "execution_count": null,
   "metadata": {},
   "outputs": [],
   "source": [
    "#18 preparing dataset for linear regression\n",
    "for i in range(3):\n",
    "    print(i)\n",
    "    train.iloc[:,i] = train.iloc[:,i].astype('int')\n",
    "    test.iloc[:,i] = test.iloc[:,i].astype('int')"
   ]
  },
  {
   "cell_type": "code",
   "execution_count": null,
   "metadata": {},
   "outputs": [],
   "source": [
    "#19 Linear regression Model\n",
    "model = sm.OLS(train.iloc[:,7], train.iloc[:,0:7]).fit()\n",
    "predicted = model.predict(test.iloc[:,0:7])\n",
    "print(mape(test.iloc[:,7],predicted))\n",
    "print(mae(test.iloc[:,7],predicted))"
   ]
  },
  {
   "cell_type": "code",
   "execution_count": null,
   "metadata": {},
   "outputs": [],
   "source": [
    "#20 model summary\n",
    "print(model.summary())"
   ]
  },
  {
   "cell_type": "code",
   "execution_count": null,
   "metadata": {},
   "outputs": [],
   "source": [
    "#21 train test split\n",
    "train, test = train_test_split(x, test_size = 0.3)"
   ]
  },
  {
   "cell_type": "markdown",
   "metadata": {},
   "source": [
    "## Decision Tree"
   ]
  },
  {
   "cell_type": "code",
   "execution_count": null,
   "metadata": {},
   "outputs": [],
   "source": [
    "#22 Decision Tree model\n",
    "model2 = DecisionTreeRegressor(max_depth= 9).fit(train.iloc[:,0:7],train.iloc[:,7])\n",
    "predicted2 = model2.predict(test.iloc[:,0:7])\n",
    "print(mape(test.iloc[:,7],predicted2))\n",
    "print(mae(test.iloc[:,7],predicted2))"
   ]
  },
  {
   "cell_type": "markdown",
   "metadata": {},
   "source": [
    "## Random Forest"
   ]
  },
  {
   "cell_type": "code",
   "execution_count": null,
   "metadata": {},
   "outputs": [],
   "source": [
    "#23 preparing data for Random Forest & KNN\n",
    "x_indi = train.iloc[:,0:7]\n",
    "x_dep = train.iloc[:,7]\n",
    "y_indi = test.iloc[:,0:7]\n",
    "y_dep = test.iloc[:,7]"
   ]
  },
  {
   "cell_type": "code",
   "execution_count": null,
   "metadata": {},
   "outputs": [],
   "source": [
    "#24 Random Forest Model\n",
    "model3 = RandomForestRegressor(n_estimators= 100).fit(x_indi,x_dep)\n",
    "predicted3 = model3.predict(y_indi)\n",
    "print(mape(y_dep,predicted3))\n",
    "print(mae(y_dep,predicted3))"
   ]
  },
  {
   "cell_type": "markdown",
   "metadata": {},
   "source": [
    "## KNN"
   ]
  },
  {
   "cell_type": "code",
   "execution_count": null,
   "metadata": {},
   "outputs": [],
   "source": [
    "#24 KNN model\n",
    "KNN_model = KNeighborsRegressor(n_neighbors = 3).fit(x_indi, x_dep)\n",
    "predicted4 = KNN_model.predict(y_indi)\n",
    "print(mape(y_dep,predicted4))\n",
    "print(mae(y_dep,predicted4))"
   ]
  },
  {
   "cell_type": "markdown",
   "metadata": {},
   "source": [
    "# Test case"
   ]
  },
  {
   "cell_type": "code",
   "execution_count": null,
   "metadata": {},
   "outputs": [],
   "source": [
    "#25 defining test value\n",
    "sampleInput = pd.DataFrame({'yr' : [1],'mnth' : [12],'holiday': [0],'atemp' : [0.474] ,'hum' : [.627] , 'windspeed': [.19],'casual': [713]})"
   ]
  },
  {
   "cell_type": "code",
   "execution_count": null,
   "metadata": {},
   "outputs": [],
   "source": [
    "#26 preparing test values\n",
    "for i in range(3):\n",
    "    print(i)\n",
    "    sampleInput.iloc[:,i] = sampleInput.iloc[:,i].astype('object')"
   ]
  },
  {
   "cell_type": "code",
   "execution_count": null,
   "metadata": {},
   "outputs": [],
   "source": [
    "#27 scaling test value\n",
    "sampleInput.iloc[:,6] =((sampleInput.iloc[:,6] - backup.iloc[:,11].min())/(backup.iloc[:,11].max()-backup.iloc[:,11].min()))"
   ]
  },
  {
   "cell_type": "code",
   "execution_count": null,
   "metadata": {},
   "outputs": [],
   "source": [
    "#28 predicting count\n",
    "predicted_count = model3.predict(sampleInput)"
   ]
  },
  {
   "cell_type": "code",
   "execution_count": null,
   "metadata": {},
   "outputs": [],
   "source": [
    "#predicted count\n",
    "predicted_count"
   ]
  },
  {
   "cell_type": "code",
   "execution_count": 1,
   "metadata": {},
   "outputs": [
    {
     "data": {
      "text/plain": [
       "'i'"
      ]
     },
     "execution_count": 1,
     "metadata": {},
     "output_type": "execute_result"
    }
   ],
   "source": [
    "\"Spotle.ai\" [-1]"
   ]
  },
  {
   "cell_type": "code",
   "execution_count": null,
   "metadata": {},
   "outputs": [],
   "source": []
  }
 ],
 "metadata": {
  "kernelspec": {
   "display_name": "Python 3",
   "language": "python",
   "name": "python3"
  },
  "language_info": {
   "codemirror_mode": {
    "name": "ipython",
    "version": 3
   },
   "file_extension": ".py",
   "mimetype": "text/x-python",
   "name": "python",
   "nbconvert_exporter": "python",
   "pygments_lexer": "ipython3",
   "version": "3.7.3"
  }
 },
 "nbformat": 4,
 "nbformat_minor": 2
}
